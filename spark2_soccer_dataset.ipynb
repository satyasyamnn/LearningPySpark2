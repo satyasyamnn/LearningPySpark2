{
 "cells": [
  {
   "cell_type": "code",
   "execution_count": 2,
   "metadata": {},
   "outputs": [],
   "source": [
    "from pyspark.sql import SparkSession"
   ]
  },
  {
   "cell_type": "code",
   "execution_count": 53,
   "metadata": {},
   "outputs": [
    {
     "data": {
      "text/html": [
       "\n",
       "        <div>\n",
       "            <p><b>SparkContext</b></p>\n",
       "\n",
       "            <p><a href=\"http://ManjushaShyam:4041\">Spark UI</a></p>\n",
       "\n",
       "            <dl>\n",
       "              <dt>Version</dt>\n",
       "                <dd><code>v2.3.3</code></dd>\n",
       "              <dt>Master</dt>\n",
       "                <dd><code>local[*]</code></dd>\n",
       "              <dt>AppName</dt>\n",
       "                <dd><code>PySparkShell</code></dd>\n",
       "            </dl>\n",
       "        </div>\n",
       "        "
      ],
      "text/plain": [
       "<SparkContext master=local[*] appName=PySparkShell>"
      ]
     },
     "execution_count": 53,
     "metadata": {},
     "output_type": "execute_result"
    }
   ],
   "source": [
    "sc"
   ]
  },
  {
   "cell_type": "code",
   "execution_count": 3,
   "metadata": {},
   "outputs": [],
   "source": [
    "spark = SparkSession.builder.appName('Analyzing Soccer Player').getOrCreate()"
   ]
  },
  {
   "cell_type": "code",
   "execution_count": 4,
   "metadata": {},
   "outputs": [],
   "source": [
    "playersPath =r'C:\\\\Hadoop\\\\Data\\\\player.csv'"
   ]
  },
  {
   "cell_type": "code",
   "execution_count": 5,
   "metadata": {},
   "outputs": [],
   "source": [
    "players = spark.read.format('csv')\\\n",
    "                    .option('header', 'true')\\\n",
    "                    .option('inferSchema', 'true')\\\n",
    "                    .load(playersPath)"
   ]
  },
  {
   "cell_type": "code",
   "execution_count": 6,
   "metadata": {},
   "outputs": [
    {
     "name": "stdout",
     "output_type": "stream",
     "text": [
      "root\n",
      " |-- id: integer (nullable = true)\n",
      " |-- player_api_id: integer (nullable = true)\n",
      " |-- player_name: string (nullable = true)\n",
      " |-- player_fifa_api_id: integer (nullable = true)\n",
      " |-- birthday: timestamp (nullable = true)\n",
      " |-- height: double (nullable = true)\n",
      " |-- weight: integer (nullable = true)\n",
      "\n"
     ]
    }
   ],
   "source": [
    "players.printSchema()"
   ]
  },
  {
   "cell_type": "code",
   "execution_count": 7,
   "metadata": {},
   "outputs": [
    {
     "name": "stdout",
     "output_type": "stream",
     "text": [
      "+---+-------------+------------------+------------------+-------------------+------+------+\n",
      "| id|player_api_id|       player_name|player_fifa_api_id|           birthday|height|weight|\n",
      "+---+-------------+------------------+------------------+-------------------+------+------+\n",
      "|  1|       505942|Aaron Appindangoye|            218353|1992-02-29 00:00:00|182.88|   187|\n",
      "|  2|       155782|   Aaron Cresswell|            189615|1989-12-15 00:00:00|170.18|   146|\n",
      "|  3|       162549|       Aaron Doran|            186170|1991-05-13 00:00:00|170.18|   163|\n",
      "|  4|        30572|     Aaron Galindo|            140161|1982-05-08 00:00:00|182.88|   198|\n",
      "|  5|        23780|      Aaron Hughes|             17725|1979-11-08 00:00:00|182.88|   154|\n",
      "+---+-------------+------------------+------------------+-------------------+------+------+\n",
      "only showing top 5 rows\n",
      "\n"
     ]
    }
   ],
   "source": [
    "players.show(5)"
   ]
  },
  {
   "cell_type": "code",
   "execution_count": 8,
   "metadata": {},
   "outputs": [],
   "source": [
    "playersAttributePath =r'C:\\\\Hadoop\\\\Data\\\\player_attributes.csv'\n",
    "playerAttributes = spark.read.format('csv')\\\n",
    "                    .option('header', 'true')\\\n",
    "                    .option('inferSchema', 'true')\\\n",
    "                    .load(playersAttributePath)"
   ]
  },
  {
   "cell_type": "code",
   "execution_count": 9,
   "metadata": {},
   "outputs": [
    {
     "name": "stdout",
     "output_type": "stream",
     "text": [
      "+---+------------------+-------------+-------------------+--------------+---------+--------------+-------------------+-------------------+--------+---------+----------------+-------------+-------+---------+-----+------------------+------------+------------+------------+------------+-------+---------+-------+----------+-------+-------+--------+----------+----------+-------------+-----------+------+---------+-------+---------------+--------------+---------+-----------+----------+--------------+-----------+\n",
      "| id|player_fifa_api_id|player_api_id|               date|overall_rating|potential|preferred_foot|attacking_work_rate|defensive_work_rate|crossing|finishing|heading_accuracy|short_passing|volleys|dribbling|curve|free_kick_accuracy|long_passing|ball_control|acceleration|sprint_speed|agility|reactions|balance|shot_power|jumping|stamina|strength|long_shots|aggression|interceptions|positioning|vision|penalties|marking|standing_tackle|sliding_tackle|gk_diving|gk_handling|gk_kicking|gk_positioning|gk_reflexes|\n",
      "+---+------------------+-------------+-------------------+--------------+---------+--------------+-------------------+-------------------+--------+---------+----------------+-------------+-------+---------+-----+------------------+------------+------------+------------+------------+-------+---------+-------+----------+-------+-------+--------+----------+----------+-------------+-----------+------+---------+-------+---------------+--------------+---------+-----------+----------+--------------+-----------+\n",
      "|  1|            218353|       505942|2016-02-18 00:00:00|            67|       71|         right|             medium|             medium|      49|       44|              71|           61|     44|       51|   45|                39|          64|          49|          60|          64|     59|       47|     65|        55|     58|     54|      76|        35|        71|           70|         45|    54|       48|     65|             69|            69|        6|         11|        10|             8|          8|\n",
      "|  2|            218353|       505942|2015-11-19 00:00:00|            67|       71|         right|             medium|             medium|      49|       44|              71|           61|     44|       51|   45|                39|          64|          49|          60|          64|     59|       47|     65|        55|     58|     54|      76|        35|        71|           70|         45|    54|       48|     65|             69|            69|        6|         11|        10|             8|          8|\n",
      "|  3|            218353|       505942|2015-09-21 00:00:00|            62|       66|         right|             medium|             medium|      49|       44|              71|           61|     44|       51|   45|                39|          64|          49|          60|          64|     59|       47|     65|        55|     58|     54|      76|        35|        63|           41|         45|    54|       48|     65|             66|            69|        6|         11|        10|             8|          8|\n",
      "|  4|            218353|       505942|2015-03-20 00:00:00|            61|       65|         right|             medium|             medium|      48|       43|              70|           60|     43|       50|   44|                38|          63|          48|          60|          64|     59|       46|     65|        54|     58|     54|      76|        34|        62|           40|         44|    53|       47|     62|             63|            66|        5|         10|         9|             7|          7|\n",
      "|  5|            218353|       505942|2007-02-22 00:00:00|            61|       65|         right|             medium|             medium|      48|       43|              70|           60|     43|       50|   44|                38|          63|          48|          60|          64|     59|       46|     65|        54|     58|     54|      76|        34|        62|           40|         44|    53|       47|     62|             63|            66|        5|         10|         9|             7|          7|\n",
      "+---+------------------+-------------+-------------------+--------------+---------+--------------+-------------------+-------------------+--------+---------+----------------+-------------+-------+---------+-----+------------------+------------+------------+------------+------------+-------+---------+-------+----------+-------+-------+--------+----------+----------+-------------+-----------+------+---------+-------+---------------+--------------+---------+-----------+----------+--------------+-----------+\n",
      "only showing top 5 rows\n",
      "\n"
     ]
    }
   ],
   "source": [
    "playerAttributes.show(5)"
   ]
  },
  {
   "cell_type": "code",
   "execution_count": 10,
   "metadata": {},
   "outputs": [
    {
     "name": "stdout",
     "output_type": "stream",
     "text": [
      "root\n",
      " |-- id: integer (nullable = true)\n",
      " |-- player_fifa_api_id: integer (nullable = true)\n",
      " |-- player_api_id: integer (nullable = true)\n",
      " |-- date: timestamp (nullable = true)\n",
      " |-- overall_rating: integer (nullable = true)\n",
      " |-- potential: integer (nullable = true)\n",
      " |-- preferred_foot: string (nullable = true)\n",
      " |-- attacking_work_rate: string (nullable = true)\n",
      " |-- defensive_work_rate: string (nullable = true)\n",
      " |-- crossing: integer (nullable = true)\n",
      " |-- finishing: integer (nullable = true)\n",
      " |-- heading_accuracy: integer (nullable = true)\n",
      " |-- short_passing: integer (nullable = true)\n",
      " |-- volleys: integer (nullable = true)\n",
      " |-- dribbling: integer (nullable = true)\n",
      " |-- curve: integer (nullable = true)\n",
      " |-- free_kick_accuracy: integer (nullable = true)\n",
      " |-- long_passing: integer (nullable = true)\n",
      " |-- ball_control: integer (nullable = true)\n",
      " |-- acceleration: integer (nullable = true)\n",
      " |-- sprint_speed: integer (nullable = true)\n",
      " |-- agility: integer (nullable = true)\n",
      " |-- reactions: integer (nullable = true)\n",
      " |-- balance: integer (nullable = true)\n",
      " |-- shot_power: integer (nullable = true)\n",
      " |-- jumping: integer (nullable = true)\n",
      " |-- stamina: integer (nullable = true)\n",
      " |-- strength: integer (nullable = true)\n",
      " |-- long_shots: integer (nullable = true)\n",
      " |-- aggression: integer (nullable = true)\n",
      " |-- interceptions: integer (nullable = true)\n",
      " |-- positioning: integer (nullable = true)\n",
      " |-- vision: integer (nullable = true)\n",
      " |-- penalties: integer (nullable = true)\n",
      " |-- marking: integer (nullable = true)\n",
      " |-- standing_tackle: integer (nullable = true)\n",
      " |-- sliding_tackle: integer (nullable = true)\n",
      " |-- gk_diving: integer (nullable = true)\n",
      " |-- gk_handling: integer (nullable = true)\n",
      " |-- gk_kicking: integer (nullable = true)\n",
      " |-- gk_positioning: integer (nullable = true)\n",
      " |-- gk_reflexes: integer (nullable = true)\n",
      "\n"
     ]
    }
   ],
   "source": [
    "playerAttributes.printSchema()"
   ]
  },
  {
   "cell_type": "code",
   "execution_count": 11,
   "metadata": {},
   "outputs": [
    {
     "data": {
      "text/plain": [
       "(11060, 183978)"
      ]
     },
     "execution_count": 11,
     "metadata": {},
     "output_type": "execute_result"
    }
   ],
   "source": [
    "players.count(), playerAttributes.count()"
   ]
  },
  {
   "cell_type": "code",
   "execution_count": 12,
   "metadata": {},
   "outputs": [],
   "source": [
    "playerAttributes = playerAttributes.dropna()\n",
    "players = players.dropna()"
   ]
  },
  {
   "cell_type": "code",
   "execution_count": 13,
   "metadata": {},
   "outputs": [
    {
     "data": {
      "text/plain": [
       "(11060, 180354)"
      ]
     },
     "execution_count": 13,
     "metadata": {},
     "output_type": "execute_result"
    }
   ],
   "source": [
    "players.count(), playerAttributes.count()"
   ]
  },
  {
   "cell_type": "code",
   "execution_count": 14,
   "metadata": {},
   "outputs": [],
   "source": [
    "from pyspark.sql.functions import udf"
   ]
  },
  {
   "cell_type": "code",
   "execution_count": 15,
   "metadata": {},
   "outputs": [
    {
     "data": {
      "text/plain": [
       "['id',\n",
       " 'player_fifa_api_id',\n",
       " 'player_api_id',\n",
       " 'date',\n",
       " 'overall_rating',\n",
       " 'potential',\n",
       " 'preferred_foot',\n",
       " 'attacking_work_rate',\n",
       " 'defensive_work_rate',\n",
       " 'crossing',\n",
       " 'finishing',\n",
       " 'heading_accuracy',\n",
       " 'short_passing',\n",
       " 'volleys',\n",
       " 'dribbling',\n",
       " 'curve',\n",
       " 'free_kick_accuracy',\n",
       " 'long_passing',\n",
       " 'ball_control',\n",
       " 'acceleration',\n",
       " 'sprint_speed',\n",
       " 'agility',\n",
       " 'reactions',\n",
       " 'balance',\n",
       " 'shot_power',\n",
       " 'jumping',\n",
       " 'stamina',\n",
       " 'strength',\n",
       " 'long_shots',\n",
       " 'aggression',\n",
       " 'interceptions',\n",
       " 'positioning',\n",
       " 'vision',\n",
       " 'penalties',\n",
       " 'marking',\n",
       " 'standing_tackle',\n",
       " 'sliding_tackle',\n",
       " 'gk_diving',\n",
       " 'gk_handling',\n",
       " 'gk_kicking',\n",
       " 'gk_positioning',\n",
       " 'gk_reflexes',\n",
       " 'year']"
      ]
     },
     "execution_count": 15,
     "metadata": {},
     "output_type": "execute_result"
    }
   ],
   "source": [
    "year_extract_udf = udf(lambda date: date.year)\n",
    "playerAttributes = playerAttributes.withColumn('year', year_extract_udf(playerAttributes.date))\n",
    "playerAttributes.columns"
   ]
  },
  {
   "cell_type": "code",
   "execution_count": 16,
   "metadata": {},
   "outputs": [
    {
     "data": {
      "text/plain": [
       "14098"
      ]
     },
     "execution_count": 16,
     "metadata": {},
     "output_type": "execute_result"
    }
   ],
   "source": [
    "player_attributes_for_year_2016 = playerAttributes.filter(playerAttributes.year == 2016)\n",
    "player_attributes_for_year_2016.count()"
   ]
  },
  {
   "cell_type": "code",
   "execution_count": 17,
   "metadata": {},
   "outputs": [
    {
     "data": {
      "text/plain": [
       "5586"
      ]
     },
     "execution_count": 17,
     "metadata": {},
     "output_type": "execute_result"
    }
   ],
   "source": [
    "player_attributes_for_year_2016.select(player_attributes_for_year_2016.player_api_id).distinct().count()"
   ]
  },
  {
   "cell_type": "code",
   "execution_count": 18,
   "metadata": {},
   "outputs": [],
   "source": [
    "pa_striker_2016 = player_attributes_for_year_2016.groupBy('player_api_id')\\\n",
    "                                                 .agg({\n",
    "                                                        'finishing':'avg',\n",
    "                                                        'shot_power':'avg',\n",
    "                                                        'acceleration':'avg'\n",
    "                                                      })\\\n",
    "                                                 .withColumnRenamed('avg(finishing)','finishing')\\\n",
    "                                                 .withColumnRenamed('avg(acceleration)','acceleration')\\\n",
    "                                                 .withColumnRenamed('avg(shot_power)','shot_power')"
   ]
  },
  {
   "cell_type": "code",
   "execution_count": 19,
   "metadata": {},
   "outputs": [
    {
     "name": "stdout",
     "output_type": "stream",
     "text": [
      "+-------------+------------------+-----------------+-----------------+\n",
      "|player_api_id|         finishing|     acceleration|       shot_power|\n",
      "+-------------+------------------+-----------------+-----------------+\n",
      "|       114503|              78.0|             77.0|             75.0|\n",
      "|       171094|              39.0|             65.0|             36.0|\n",
      "|        27484|              61.0|71.66666666666667|             71.0|\n",
      "|       166648| 86.83333333333333|             84.0|             81.0|\n",
      "|       265363|              53.0|88.33333333333333|72.66666666666667|\n",
      "|        41890|              66.4|             79.0|             77.8|\n",
      "|       195413|61.666666666666664|             77.0|             76.0|\n",
      "|        89476|              70.0|             72.0|             72.0|\n",
      "|        27974|              61.0|             40.5|             77.0|\n",
      "|        26708|              38.0|             55.0|             47.0|\n",
      "|       689987|              41.0|             52.0|             52.0|\n",
      "|        24171|              72.0|             69.0|             80.0|\n",
      "|       580589|              22.0|             75.0|             48.0|\n",
      "|       282680|              12.0|             33.0|             24.0|\n",
      "|       179115|              59.0|             73.0|             77.0|\n",
      "|       556029|              61.0|             85.0|             65.0|\n",
      "|       287645|              55.0|             67.0|             52.0|\n",
      "|        69637|              67.0|73.33333333333333|             78.0|\n",
      "|       213483|              55.0|             62.0|             68.0|\n",
      "|       503098|              47.0|             70.0|             41.0|\n",
      "+-------------+------------------+-----------------+-----------------+\n",
      "only showing top 20 rows\n",
      "\n"
     ]
    }
   ],
   "source": [
    "pa_striker_2016.show()"
   ]
  },
  {
   "cell_type": "code",
   "execution_count": 20,
   "metadata": {},
   "outputs": [],
   "source": [
    "weight_finishing = 1\n",
    "weight_acceleration = 2 \n",
    "weight_shot_power = 1\n",
    "\n",
    "total_weight = weight_finishing + weight_acceleration + weight_shot_power"
   ]
  },
  {
   "cell_type": "code",
   "execution_count": 21,
   "metadata": {},
   "outputs": [
    {
     "name": "stdout",
     "output_type": "stream",
     "text": [
      "+-------------+-----------------+-----------------+----------+------+\n",
      "|player_api_id|        finishing|     acceleration|shot_power| grade|\n",
      "+-------------+-----------------+-----------------+----------+------+\n",
      "|        37412|             90.0|             92.0|      87.0|  67.5|\n",
      "|        25759|89.66666666666667|             79.0|      85.0| 67.25|\n",
      "|        93447|             89.0|             79.0|      84.5| 66.75|\n",
      "|       116772|             89.0|             76.0|      74.0| 66.75|\n",
      "|        70409|             89.0|             87.0|      75.0| 66.75|\n",
      "|        19243|             89.0|             75.0|      83.0| 66.75|\n",
      "|        19533|             88.5|             91.0|      77.5|66.375|\n",
      "|       150565|             88.0|             95.0|      78.0|  66.0|\n",
      "|        38817|             88.0|             90.0|      88.5|  66.0|\n",
      "|       282770|87.33333333333333|             76.5|      78.0|  65.5|\n",
      "|        30709|             87.0|             34.0|      77.0| 65.25|\n",
      "|       184138|             87.0|             86.0|      79.0| 65.25|\n",
      "|        39122|             87.0|             76.0|      82.0| 65.25|\n",
      "|       325916|             87.0|89.83333333333333|      77.0| 65.25|\n",
      "|       166648|86.83333333333333|             84.0|      81.0|65.125|\n",
      "+-------------+-----------------+-----------------+----------+------+\n",
      "\n"
     ]
    }
   ],
   "source": [
    "strikers = pa_striker_2016.withColumn('grade', (pa_striker_2016.finishing * weight_finishing + \\\n",
    "                                               pa_striker_2016.finishing * weight_finishing + \\\n",
    "                                               pa_striker_2016.finishing * weight_finishing) /total_weight) \n",
    "\n",
    "strikers = strikers.filter(strikers.grade > 65) \\\n",
    "                   .sort(strikers.grade.desc())\n",
    "\n",
    "strikers.show()"
   ]
  },
  {
   "cell_type": "code",
   "execution_count": 22,
   "metadata": {},
   "outputs": [
    {
     "data": {
      "text/plain": [
       "(15, 11060)"
      ]
     },
     "execution_count": 22,
     "metadata": {},
     "output_type": "execute_result"
    }
   ],
   "source": [
    "strikers.count(), players.count()"
   ]
  },
  {
   "cell_type": "code",
   "execution_count": 23,
   "metadata": {},
   "outputs": [
    {
     "data": {
      "text/plain": [
       "['id',\n",
       " 'player_api_id',\n",
       " 'player_name',\n",
       " 'player_fifa_api_id',\n",
       " 'birthday',\n",
       " 'height',\n",
       " 'weight',\n",
       " 'player_api_id',\n",
       " 'finishing',\n",
       " 'acceleration',\n",
       " 'shot_power',\n",
       " 'grade']"
      ]
     },
     "execution_count": 23,
     "metadata": {},
     "output_type": "execute_result"
    }
   ],
   "source": [
    "# join approach 1 \n",
    "striker_details = players.join(strikers, players.player_api_id == strikers.player_api_id)\n",
    "striker_details.columns"
   ]
  },
  {
   "cell_type": "code",
   "execution_count": 24,
   "metadata": {},
   "outputs": [
    {
     "data": {
      "text/plain": [
       "['player_api_id',\n",
       " 'id',\n",
       " 'player_name',\n",
       " 'player_fifa_api_id',\n",
       " 'birthday',\n",
       " 'height',\n",
       " 'weight',\n",
       " 'finishing',\n",
       " 'acceleration',\n",
       " 'shot_power',\n",
       " 'grade']"
      ]
     },
     "execution_count": 24,
     "metadata": {},
     "output_type": "execute_result"
    }
   ],
   "source": [
    "# join approach 2, help for multi column joins\n",
    "striker_details = players.join(strikers, ['player_api_id'])\n",
    "striker_details.columns"
   ]
  },
  {
   "cell_type": "code",
   "execution_count": 25,
   "metadata": {},
   "outputs": [
    {
     "name": "stdout",
     "output_type": "stream",
     "text": [
      "+-------------+----+---------------+------------------+-------------------+------+------+-----------------+------------+----------+-----+\n",
      "|player_api_id|  id|    player_name|player_fifa_api_id|           birthday|height|weight|        finishing|acceleration|shot_power|grade|\n",
      "+-------------+----+---------------+------------------+-------------------+------+------+-----------------+------------+----------+-----+\n",
      "|        37412|9674|  Sergio Aguero|            153079|1988-06-02 00:00:00|172.72|   163|             90.0|        92.0|      87.0| 67.5|\n",
      "|        25759|3936|Gonzalo Higuain|            167664|1987-12-10 00:00:00|182.88|   181|89.66666666666667|        79.0|      85.0|67.25|\n",
      "+-------------+----+---------------+------------------+-------------------+------+------+-----------------+------------+----------+-----+\n",
      "only showing top 2 rows\n",
      "\n"
     ]
    }
   ],
   "source": [
    "striker_details.show(2)"
   ]
  },
  {
   "cell_type": "code",
   "execution_count": 27,
   "metadata": {},
   "outputs": [],
   "source": [
    "#broad casting\n",
    "from pyspark.sql.functions import broadcast"
   ]
  },
  {
   "cell_type": "code",
   "execution_count": 28,
   "metadata": {},
   "outputs": [],
   "source": [
    "# strikers can be broad casted, as they are kind of lookups which avoids duplicacy of data at each task level \n",
    "# instead the are managed at the node level\n",
    "# broadcast is used to speed up the execution\n",
    "\n",
    "striker_details = players.select('player_api_id','player_name','birthday')\\\n",
    "                         .join(broadcast(strikers), ['player_api_id'], 'inner')"
   ]
  },
  {
   "cell_type": "code",
   "execution_count": 29,
   "metadata": {},
   "outputs": [
    {
     "name": "stdout",
     "output_type": "stream",
     "text": [
      "+-------------+--------------------+-------------------+-----------------+-----------------+----------+------+\n",
      "|player_api_id|         player_name|           birthday|        finishing|     acceleration|shot_power| grade|\n",
      "+-------------+--------------------+-------------------+-----------------+-----------------+----------+------+\n",
      "|       184138|   Antoine Griezmann|1991-03-21 00:00:00|             87.0|             86.0|      79.0| 65.25|\n",
      "|       166648|        Carlos Bacca|1986-09-08 00:00:00|86.83333333333333|             84.0|      81.0|65.125|\n",
      "|        38817|        Carlos Tevez|1984-02-05 00:00:00|             88.0|             90.0|      88.5|  66.0|\n",
      "|        19243|         Diego Costa|1988-10-07 00:00:00|             89.0|             75.0|      83.0| 66.75|\n",
      "|        25759|     Gonzalo Higuain|1987-12-10 00:00:00|89.66666666666667|             79.0|      85.0| 67.25|\n",
      "|        70409|    Javier Hernandez|1988-06-01 00:00:00|             89.0|             87.0|      75.0| 66.75|\n",
      "|        39122|               Jonas|1984-04-01 00:00:00|             87.0|             76.0|      82.0| 65.25|\n",
      "|        30709|           Luca Toni|1977-05-26 00:00:00|             87.0|             34.0|      77.0| 65.25|\n",
      "|       282770|        Mauro Icardi|1993-02-19 00:00:00|87.33333333333333|             76.5|      78.0|  65.5|\n",
      "|        19533|              Neymar|1992-02-05 00:00:00|             88.5|             91.0|      77.5|66.375|\n",
      "|       325916|        Paulo Dybala|1993-11-15 00:00:00|             87.0|89.83333333333333|      77.0| 65.25|\n",
      "|       150565|Pierre-Emerick Au...|1989-06-18 00:00:00|             88.0|             95.0|      78.0|  66.0|\n",
      "|        93447|  Robert Lewandowski|1988-08-21 00:00:00|             89.0|             79.0|      84.5| 66.75|\n",
      "|        37412|       Sergio Aguero|1988-06-02 00:00:00|             90.0|             92.0|      87.0|  67.5|\n",
      "|       116772|      Thomas Mueller|1989-09-13 00:00:00|             89.0|             76.0|      74.0| 66.75|\n",
      "+-------------+--------------------+-------------------+-----------------+-----------------+----------+------+\n",
      "\n"
     ]
    }
   ],
   "source": [
    "striker_details.show()"
   ]
  },
  {
   "cell_type": "code",
   "execution_count": 31,
   "metadata": {},
   "outputs": [],
   "source": [
    "striker_details = striker_details.sort(striker_details.grade.desc())"
   ]
  },
  {
   "cell_type": "code",
   "execution_count": 32,
   "metadata": {},
   "outputs": [
    {
     "name": "stdout",
     "output_type": "stream",
     "text": [
      "+-------------+--------------------+-------------------+-----------------+-----------------+----------+------+\n",
      "|player_api_id|         player_name|           birthday|        finishing|     acceleration|shot_power| grade|\n",
      "+-------------+--------------------+-------------------+-----------------+-----------------+----------+------+\n",
      "|        37412|       Sergio Aguero|1988-06-02 00:00:00|             90.0|             92.0|      87.0|  67.5|\n",
      "|        25759|     Gonzalo Higuain|1987-12-10 00:00:00|89.66666666666667|             79.0|      85.0| 67.25|\n",
      "|        70409|    Javier Hernandez|1988-06-01 00:00:00|             89.0|             87.0|      75.0| 66.75|\n",
      "|        93447|  Robert Lewandowski|1988-08-21 00:00:00|             89.0|             79.0|      84.5| 66.75|\n",
      "|        19243|         Diego Costa|1988-10-07 00:00:00|             89.0|             75.0|      83.0| 66.75|\n",
      "|       116772|      Thomas Mueller|1989-09-13 00:00:00|             89.0|             76.0|      74.0| 66.75|\n",
      "|        19533|              Neymar|1992-02-05 00:00:00|             88.5|             91.0|      77.5|66.375|\n",
      "|        38817|        Carlos Tevez|1984-02-05 00:00:00|             88.0|             90.0|      88.5|  66.0|\n",
      "|       150565|Pierre-Emerick Au...|1989-06-18 00:00:00|             88.0|             95.0|      78.0|  66.0|\n",
      "|       282770|        Mauro Icardi|1993-02-19 00:00:00|87.33333333333333|             76.5|      78.0|  65.5|\n",
      "|       184138|   Antoine Griezmann|1991-03-21 00:00:00|             87.0|             86.0|      79.0| 65.25|\n",
      "|        30709|           Luca Toni|1977-05-26 00:00:00|             87.0|             34.0|      77.0| 65.25|\n",
      "|        39122|               Jonas|1984-04-01 00:00:00|             87.0|             76.0|      82.0| 65.25|\n",
      "|       325916|        Paulo Dybala|1993-11-15 00:00:00|             87.0|89.83333333333333|      77.0| 65.25|\n",
      "|       166648|        Carlos Bacca|1986-09-08 00:00:00|86.83333333333333|             84.0|      81.0|65.125|\n",
      "+-------------+--------------------+-------------------+-----------------+-----------------+----------+------+\n",
      "\n"
     ]
    }
   ],
   "source": [
    "striker_details.show()"
   ]
  },
  {
   "cell_type": "code",
   "execution_count": 33,
   "metadata": {},
   "outputs": [
    {
     "data": {
      "text/plain": [
       "(11060, 180354)"
      ]
     },
     "execution_count": 33,
     "metadata": {},
     "output_type": "execute_result"
    }
   ],
   "source": [
    "players.count(), playerAttributes.count()"
   ]
  },
  {
   "cell_type": "code",
   "execution_count": 144,
   "metadata": {},
   "outputs": [
    {
     "name": "stdout",
     "output_type": "stream",
     "text": [
      "root\n",
      " |-- player_api_id: integer (nullable = true)\n",
      " |-- heading_accuracy: integer (nullable = true)\n",
      " |-- player_api_id: integer (nullable = true)\n",
      " |-- player_name: string (nullable = true)\n",
      " |-- height: double (nullable = true)\n",
      " |-- weight: integer (nullable = true)\n",
      "\n",
      "+-------------+----------------+-------------+------------------+------+------+\n",
      "|player_api_id|heading_accuracy|player_api_id|       player_name|height|weight|\n",
      "+-------------+----------------+-------------+------------------+------+------+\n",
      "|       505942|              71|       505942|Aaron Appindangoye|182.88|   187|\n",
      "|       505942|              71|       505942|Aaron Appindangoye|182.88|   187|\n",
      "|       505942|              71|       505942|Aaron Appindangoye|182.88|   187|\n",
      "|       505942|              70|       505942|Aaron Appindangoye|182.88|   187|\n",
      "|       505942|              70|       505942|Aaron Appindangoye|182.88|   187|\n",
      "+-------------+----------------+-------------+------------------+------+------+\n",
      "only showing top 5 rows\n",
      "\n"
     ]
    }
   ],
   "source": [
    "#broadcasting players as it is smaller dataset when compared to player attributes\n",
    "players_heading_accuracy = playerAttributes.select('player_api_id', 'heading_accuracy')\\\n",
    "                                           .join(broadcast(players), playerAttributes.player_api_id == players.player_api_id)\n",
    "\n",
    "# there is an issue with birthday column, when included so removed it\n",
    "# need to understand why that happened\n",
    "\n",
    "players_heading_accuracy = players_heading_accuracy.drop('id', 'player_fifa_api_id', 'birthday')\n",
    "players_heading_accuracy.printSchema()\n",
    "players_heading_accuracy.show(5)\n",
    "#players_heading_accuracy = players_heading_accuracy.filter(playerAttributes.player_api_id == 505942)"
   ]
  },
  {
   "cell_type": "code",
   "execution_count": 134,
   "metadata": {},
   "outputs": [
    {
     "data": {
      "text/plain": [
       "[0, 0, 0, 0]"
      ]
     },
     "execution_count": 134,
     "metadata": {},
     "output_type": "execute_result"
    }
   ],
   "source": [
    "#using accumulators \n",
    "\n",
    "short_count = spark.sparkContext.accumulator(0)\n",
    "medium_low_count = spark.sparkContext.accumulator(0)\n",
    "medium_high_count = spark.sparkContext.accumulator(0)\n",
    "tail_count = spark.sparkContext.accumulator(0)\n",
    "\n",
    "all_counters = [ short_count.value, medium_high_count.value, medium_low_count.value, tail_count.value]\n",
    "all_counters"
   ]
  },
  {
   "cell_type": "code",
   "execution_count": 135,
   "metadata": {},
   "outputs": [],
   "source": [
    "def count_of_players_by_height(row):   \n",
    "    height = row.height \n",
    "    if (height <= 175):\n",
    "         short_count.add(1)\n",
    "    elif (height <= 183 and height > 175):\n",
    "        medium_low_count.add(1)\n",
    "    elif (height <= 195 and height > 183):   \n",
    "        medium_high_count.add(1)\n",
    "    elif (height > 195):   \n",
    "        tail_count.add(1)"
   ]
  },
  {
   "cell_type": "code",
   "execution_count": 136,
   "metadata": {},
   "outputs": [
    {
     "data": {
      "text/plain": [
       "[18869, 61184, 96967, 3334]"
      ]
     },
     "execution_count": 136,
     "metadata": {},
     "output_type": "execute_result"
    }
   ],
   "source": [
    "players_heading_accuracy.foreach(lambda row: count_of_players_by_height(row))\n",
    "\n",
    "all_counters = [ short_count.value, medium_high_count.value, medium_low_count.value, tail_count.value]\n",
    "all_counters"
   ]
  },
  {
   "cell_type": "code",
   "execution_count": 155,
   "metadata": {},
   "outputs": [],
   "source": [
    "short_ha_count = spark.sparkContext.accumulator(0)\n",
    "medium_low_ha_count = spark.sparkContext.accumulator(0)\n",
    "medium_high_ha_count = spark.sparkContext.accumulator(0)\n",
    "tail_ha_count = spark.sparkContext.accumulator(0)"
   ]
  },
  {
   "cell_type": "code",
   "execution_count": 156,
   "metadata": {},
   "outputs": [],
   "source": [
    "def count_of_players_by_height_and_heading_accuracy(row, threshold_score):   \n",
    "    height = row.height\n",
    "    ha = row.heading_accuracy\n",
    "    \n",
    "    if (ha <= threshold_score):\n",
    "        return \n",
    "    \n",
    "    if (height <= 175):\n",
    "         short_ha_count.add(1)\n",
    "    elif (height <= 183 and height > 175):\n",
    "        medium_low_ha_count.add(1)\n",
    "    elif (height <= 195 and height > 183):   \n",
    "        medium_high_ha_count.add(1)\n",
    "    elif (height > 195):   \n",
    "        tail_ha_count.add(1)"
   ]
  },
  {
   "cell_type": "code",
   "execution_count": 157,
   "metadata": {},
   "outputs": [
    {
     "data": {
      "text/plain": [
       "[3614, 41234, 40091, 1557]"
      ]
     },
     "execution_count": 157,
     "metadata": {},
     "output_type": "execute_result"
    }
   ],
   "source": [
    "players_heading_accuracy.foreach(lambda row: count_of_players_by_height_and_heading_accuracy(row, 60))\n",
    "all_counters_above_threshold = [\n",
    "                short_ha_count.value,\n",
    "                medium_low_ha_count.value,\n",
    "                medium_high_ha_count.value,\n",
    "                tail_ha_count.value\n",
    "               ]\n",
    "all_counters_above_threshold"
   ]
  },
  {
   "cell_type": "code",
   "execution_count": 158,
   "metadata": {},
   "outputs": [
    {
     "data": {
      "text/plain": [
       "[13.848335057669464, 22.9799091593056, 28.35971874425251, 24.147022332506204]"
      ]
     },
     "execution_count": 158,
     "metadata": {},
     "output_type": "execute_result"
    }
   ],
   "source": [
    "percentage_values = [short_ha_count.value / short_count.value *100,\n",
    "                     medium_low_ha_count.value / medium_low_count.value *100,\n",
    "                     medium_high_ha_count.value / medium_high_count.value *100,\n",
    "                     tail_ha_count.value / tail_count.value *100\n",
    "                    ]\n",
    "\n",
    "percentage_values"
   ]
  },
  {
   "cell_type": "code",
   "execution_count": 160,
   "metadata": {},
   "outputs": [],
   "source": [
    "# writing CSV file\n",
    "# coalesce(1) - will create one file with all required contents\n",
    "player_attributes_for_year_2016.select('player_api_id','overall_rating')\\\n",
    "                               .coalesce(1)\\\n",
    "                               .write\\\n",
    "                               .option('header','true')\\\n",
    "                               .csv('player_overall_rating.csv')"
   ]
  },
  {
   "cell_type": "code",
   "execution_count": 162,
   "metadata": {},
   "outputs": [],
   "source": [
    "# write content as JSON file, with files equal to number of partitions\n",
    "player_attributes_for_year_2016.select('player_api_id','overall_rating')\\\n",
    "                               .write\\\n",
    "                               .json('player_overall_rating.json')\n"
   ]
  },
  {
   "cell_type": "code",
   "execution_count": null,
   "metadata": {},
   "outputs": [],
   "source": []
  }
 ],
 "metadata": {
  "kernelspec": {
   "display_name": "Python 3",
   "language": "python",
   "name": "python3"
  },
  "language_info": {
   "codemirror_mode": {
    "name": "ipython",
    "version": 3
   },
   "file_extension": ".py",
   "mimetype": "text/x-python",
   "name": "python",
   "nbconvert_exporter": "python",
   "pygments_lexer": "ipython3",
   "version": "3.7.0"
  }
 },
 "nbformat": 4,
 "nbformat_minor": 2
}
