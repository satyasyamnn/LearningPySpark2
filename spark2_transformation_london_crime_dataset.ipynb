{
 "cells": [
  {
   "cell_type": "code",
   "execution_count": 1,
   "metadata": {},
   "outputs": [],
   "source": [
    "#import SparkSession \n",
    "from pyspark.sql import SparkSession"
   ]
  },
  {
   "cell_type": "code",
   "execution_count": 4,
   "metadata": {},
   "outputs": [],
   "source": [
    "# create spark session from builder\n",
    "spark = SparkSession.builder\\\n",
    "                     .appName('Analyzing London Crime Data')\\\n",
    "                     .getOrCreate()"
   ]
  },
  {
   "cell_type": "code",
   "execution_count": 5,
   "metadata": {},
   "outputs": [],
   "source": [
    "london_crime_details_data_path = r'C:\\\\Hadoop\\\\Data\\\\london_crime_by_lsoa.csv'"
   ]
  },
  {
   "cell_type": "code",
   "execution_count": 6,
   "metadata": {},
   "outputs": [],
   "source": [
    "# read csv file by inferring schema and header\n",
    "london_crime_data =  spark.read.format('csv')\\\n",
    "                               .option('header', 'true')\\\n",
    "                               .option('inferSchema', 'true')\\\n",
    "                               .load(london_crime_details_data_path) "
   ]
  },
  {
   "cell_type": "code",
   "execution_count": 7,
   "metadata": {},
   "outputs": [
    {
     "name": "stdout",
     "output_type": "stream",
     "text": [
      "root\n",
      " |-- lsoa_code: string (nullable = true)\n",
      " |-- borough: string (nullable = true)\n",
      " |-- major_category: string (nullable = true)\n",
      " |-- minor_category: string (nullable = true)\n",
      " |-- value: integer (nullable = true)\n",
      " |-- year: integer (nullable = true)\n",
      " |-- month: integer (nullable = true)\n",
      "\n"
     ]
    }
   ],
   "source": [
    "# to check the schema of a data frame\n",
    "london_crime_data.printSchema()"
   ]
  },
  {
   "cell_type": "code",
   "execution_count": 8,
   "metadata": {},
   "outputs": [
    {
     "data": {
      "text/plain": [
       "13490604"
      ]
     },
     "execution_count": 8,
     "metadata": {},
     "output_type": "execute_result"
    }
   ],
   "source": [
    "# number of records in the data frame \n",
    "london_crime_data.count()"
   ]
  },
  {
   "cell_type": "code",
   "execution_count": 9,
   "metadata": {},
   "outputs": [
    {
     "name": "stdout",
     "output_type": "stream",
     "text": [
      "+---------+----------+--------------------+--------------------+-----+----+-----+\n",
      "|lsoa_code|   borough|      major_category|      minor_category|value|year|month|\n",
      "+---------+----------+--------------------+--------------------+-----+----+-----+\n",
      "|E01001116|   Croydon|            Burglary|Burglary in Other...|    0|2016|   11|\n",
      "|E01001646| Greenwich|Violence Against ...|      Other violence|    0|2016|   11|\n",
      "|E01000677|   Bromley|Violence Against ...|      Other violence|    0|2015|    5|\n",
      "|E01003774| Redbridge|            Burglary|Burglary in Other...|    0|2016|    3|\n",
      "|E01004563|Wandsworth|             Robbery|   Personal Property|    0|2008|    6|\n",
      "+---------+----------+--------------------+--------------------+-----+----+-----+\n",
      "\n"
     ]
    }
   ],
   "source": [
    "# limit top2 records and show the results\n",
    "london_crime_data.limit(5).show()"
   ]
  },
  {
   "cell_type": "code",
   "execution_count": 10,
   "metadata": {},
   "outputs": [],
   "source": [
    "# data cleaning process\n",
    "# drop all rows with na\n",
    "# drop column lsoa_code\n",
    "london_crime_data.dropna()\n",
    "data = london_crime_data.drop('lsoa_code')"
   ]
  },
  {
   "cell_type": "code",
   "execution_count": 11,
   "metadata": {},
   "outputs": [
    {
     "name": "stdout",
     "output_type": "stream",
     "text": [
      "+----------+--------------------+--------------------+-----+----+-----+\n",
      "|   borough|      major_category|      minor_category|value|year|month|\n",
      "+----------+--------------------+--------------------+-----+----+-----+\n",
      "|   Croydon|            Burglary|Burglary in Other...|    0|2016|   11|\n",
      "| Greenwich|Violence Against ...|      Other violence|    0|2016|   11|\n",
      "|   Bromley|Violence Against ...|      Other violence|    0|2015|    5|\n",
      "| Redbridge|            Burglary|Burglary in Other...|    0|2016|    3|\n",
      "|Wandsworth|             Robbery|   Personal Property|    0|2008|    6|\n",
      "+----------+--------------------+--------------------+-----+----+-----+\n",
      "only showing top 5 rows\n",
      "\n"
     ]
    }
   ],
   "source": [
    "data.show(5)"
   ]
  },
  {
   "cell_type": "code",
   "execution_count": 12,
   "metadata": {},
   "outputs": [
    {
     "name": "stdout",
     "output_type": "stream",
     "text": [
      "+-------+--------------------+--------------------+-----+----+-----+\n",
      "|borough|      major_category|      minor_category|value|year|month|\n",
      "+-------+--------------------+--------------------+-----+----+-----+\n",
      "|Hackney|     Criminal Damage|Criminal Damage T...|    0|2011|    6|\n",
      "|Hackney|Violence Against ...|          Harassment|    1|2013|    2|\n",
      "|Hackney|     Criminal Damage|Other Criminal Da...|    0|2011|    7|\n",
      "|Hackney|Violence Against ...|        Wounding/GBH|    0|2013|   12|\n",
      "|Hackney|  Theft and Handling|  Other Theft Person|    0|2016|    8|\n",
      "+-------+--------------------+--------------------+-----+----+-----+\n",
      "only showing top 5 rows\n",
      "\n"
     ]
    },
    {
     "data": {
      "text/plain": [
       "417744"
      ]
     },
     "execution_count": 12,
     "metadata": {},
     "output_type": "execute_result"
    }
   ],
   "source": [
    "#filter data \n",
    "hackney_data = data.filter(data['borough'] == 'Hackney')\n",
    "hackney_data.show(5)\n",
    "hackney_data.count()"
   ]
  },
  {
   "cell_type": "code",
   "execution_count": 13,
   "metadata": {},
   "outputs": [
    {
     "name": "stdout",
     "output_type": "stream",
     "text": [
      "+---------+--------------------+--------------------+-----+----+-----+\n",
      "|  borough|      major_category|      minor_category|value|year|month|\n",
      "+---------+--------------------+--------------------+-----+----+-----+\n",
      "|  Croydon|            Burglary|Burglary in Other...|    0|2016|   11|\n",
      "|Greenwich|Violence Against ...|      Other violence|    0|2016|   11|\n",
      "|  Bromley|Violence Against ...|      Other violence|    0|2015|    5|\n",
      "|Redbridge|            Burglary|Burglary in Other...|    0|2016|    3|\n",
      "|   Sutton|  Theft and Handling|Theft/Taking of P...|    1|2016|    8|\n",
      "+---------+--------------------+--------------------+-----+----+-----+\n",
      "only showing top 5 rows\n",
      "\n"
     ]
    }
   ],
   "source": [
    "# multi value filter, filter data frame with year as 2015 and 2016\n",
    "data_2015_2016 = data.filter(data['year'].isin(['2015','2016']))\n",
    "data_2015_2016.show(5)"
   ]
  },
  {
   "cell_type": "code",
   "execution_count": 14,
   "metadata": {},
   "outputs": [
    {
     "name": "stdout",
     "output_type": "stream",
     "text": [
      "+---------+--------------------+--------------------+-----+----+-----+\n",
      "|  borough|      major_category|      minor_category|value|year|month|\n",
      "+---------+--------------------+--------------------+-----+----+-----+\n",
      "|  Croydon|            Burglary|Burglary in Other...|    0|2016|   11|\n",
      "|Greenwich|Violence Against ...|      Other violence|    0|2016|   11|\n",
      "|  Bromley|Violence Against ...|      Other violence|    0|2015|    5|\n",
      "|Redbridge|            Burglary|Burglary in Other...|    0|2016|    3|\n",
      "|   Sutton|  Theft and Handling|Theft/Taking of P...|    1|2016|    8|\n",
      "+---------+--------------------+--------------------+-----+----+-----+\n",
      "only showing top 5 rows\n",
      "\n"
     ]
    },
    {
     "data": {
      "text/plain": [
       "4496868"
      ]
     },
     "execution_count": 14,
     "metadata": {},
     "output_type": "execute_result"
    }
   ],
   "source": [
    "# filter data with a condition of >=\n",
    "data_2014_and_above = data.filter(data['year'] >= 2014)\n",
    "data_2014_and_above.show(5)\n",
    "data_2014_and_above.count()"
   ]
  },
  {
   "cell_type": "code",
   "execution_count": 15,
   "metadata": {},
   "outputs": [
    {
     "name": "stdout",
     "output_type": "stream",
     "text": [
      "+--------------------+------+\n",
      "|             borough| count|\n",
      "+--------------------+------+\n",
      "|             Croydon|602100|\n",
      "|          Wandsworth|498636|\n",
      "|              Bexley|385668|\n",
      "|             Lambeth|519048|\n",
      "|Barking and Dagenham|311040|\n",
      "|              Camden|378432|\n",
      "|           Greenwich|421200|\n",
      "|              Newham|471420|\n",
      "|       Tower Hamlets|412128|\n",
      "|            Hounslow|395928|\n",
      "|              Barnet|572832|\n",
      "|              Harrow|365688|\n",
      "|Kensington and Ch...|296784|\n",
      "|           Islington|359208|\n",
      "|               Brent|490644|\n",
      "|            Haringey|413856|\n",
      "|             Bromley|523908|\n",
      "|              Merton|339876|\n",
      "|         Westminster|366660|\n",
      "|             Hackney|417744|\n",
      "+--------------------+------+\n",
      "only showing top 20 rows\n",
      "\n"
     ]
    },
    {
     "data": {
      "text/plain": [
       "33"
      ]
     },
     "execution_count": 15,
     "metadata": {},
     "output_type": "execute_result"
    }
   ],
   "source": [
    "#query - get number of borough in each borough\n",
    "borough_count = data.groupBy(data['borough']).count()\n",
    "borough_count.show()\n",
    "borough_count.count()"
   ]
  },
  {
   "cell_type": "code",
   "execution_count": 16,
   "metadata": {},
   "outputs": [
    {
     "name": "stdout",
     "output_type": "stream",
     "text": [
      "+--------------------+-----------+\n",
      "|             borough|convictions|\n",
      "+--------------------+-----------+\n",
      "|             Croydon|     260294|\n",
      "|          Wandsworth|     204741|\n",
      "|              Bexley|     114136|\n",
      "|             Lambeth|     292178|\n",
      "|Barking and Dagenham|     149447|\n",
      "|              Camden|     275147|\n",
      "|           Greenwich|     181568|\n",
      "|              Newham|     262024|\n",
      "|       Tower Hamlets|     228613|\n",
      "|            Hounslow|     186772|\n",
      "|              Barnet|     212191|\n",
      "|              Harrow|     116848|\n",
      "|Kensington and Ch...|     171981|\n",
      "|           Islington|     230286|\n",
      "|               Brent|     227551|\n",
      "|            Haringey|     213272|\n",
      "|             Bromley|     184349|\n",
      "|              Merton|     115654|\n",
      "|         Westminster|     455028|\n",
      "|             Hackney|     217119|\n",
      "+--------------------+-----------+\n",
      "only showing top 20 rows\n",
      "\n",
      "+----------+\n",
      "|sum(value)|\n",
      "+----------+\n",
      "|   6447758|\n",
      "+----------+\n",
      "\n",
      "6447758\n",
      "+----------------+\n",
      "|sum(convictions)|\n",
      "+----------------+\n",
      "|         6447758|\n",
      "+----------------+\n",
      "\n",
      "6447758\n"
     ]
    }
   ],
   "source": [
    "# query - get number of convictions in each borough\n",
    "# rename column sum(value) to \"convictions\"\n",
    "borough_conviction_sum = data.groupBy(data['borough'])\\\n",
    "                             .agg({'value':'sum'})\\\n",
    "                             .withColumnRenamed('sum(value)', 'convictions')\n",
    "borough_conviction_sum.show()\n",
    "\n",
    "#query total number of convictions \n",
    "total_borough_convictions = data.agg({'value': 'sum'})\n",
    "total_borough_convictions.show()\n",
    "total_convictions = total_borough_convictions.collect()[0][0]\n",
    "print(total_convictions)\n",
    "\n",
    "total_borough_convictions = borough_conviction_sum.agg({'convictions': 'sum'})\n",
    "total_borough_convictions.show()\n",
    "total_convictions = total_borough_convictions.collect()[0][0]\n",
    "print(total_convictions)"
   ]
  },
  {
   "cell_type": "code",
   "execution_count": 18,
   "metadata": {},
   "outputs": [
    {
     "name": "stdout",
     "output_type": "stream",
     "text": [
      "root\n",
      " |-- borough: string (nullable = true)\n",
      " |-- convictions: long (nullable = true)\n",
      " |-- % Conviction: double (nullable = true)\n",
      "\n",
      "+--------------------+-----------+------------+\n",
      "|             borough|convictions|% Conviction|\n",
      "+--------------------+-----------+------------+\n",
      "|             Croydon|     260294|        4.04|\n",
      "|          Wandsworth|     204741|        3.18|\n",
      "|              Bexley|     114136|        1.77|\n",
      "|             Lambeth|     292178|        4.53|\n",
      "|Barking and Dagenham|     149447|        2.32|\n",
      "|              Camden|     275147|        4.27|\n",
      "|           Greenwich|     181568|        2.82|\n",
      "|              Newham|     262024|        4.06|\n",
      "|       Tower Hamlets|     228613|        3.55|\n",
      "|            Hounslow|     186772|         2.9|\n",
      "|              Barnet|     212191|        3.29|\n",
      "|              Harrow|     116848|        1.81|\n",
      "|Kensington and Ch...|     171981|        2.67|\n",
      "|           Islington|     230286|        3.57|\n",
      "|               Brent|     227551|        3.53|\n",
      "|            Haringey|     213272|        3.31|\n",
      "|             Bromley|     184349|        2.86|\n",
      "|              Merton|     115654|        1.79|\n",
      "|         Westminster|     455028|        7.06|\n",
      "|             Hackney|     217119|        3.37|\n",
      "+--------------------+-----------+------------+\n",
      "only showing top 20 rows\n",
      "\n"
     ]
    }
   ],
   "source": [
    "# find percentage of crime convictions in each borough\n",
    "import pyspark.sql.functions as func\n",
    "borough_percentage_contribution = borough_conviction_sum.withColumn(\n",
    "  \"% Conviction\",                 \n",
    "  func.round((borough_conviction_sum.convictions / total_convictions) * 100, 2)  \n",
    ")\n",
    "borough_percentage_contribution.printSchema()\n",
    "borough_percentage_contribution.show()"
   ]
  },
  {
   "cell_type": "code",
   "execution_count": 19,
   "metadata": {},
   "outputs": [
    {
     "name": "stdout",
     "output_type": "stream",
     "text": [
      "+-------------+-----------+------------+\n",
      "|      borough|convictions|% Conviction|\n",
      "+-------------+-----------+------------+\n",
      "|  Westminster|     455028|        7.06|\n",
      "|      Lambeth|     292178|        4.53|\n",
      "|    Southwark|     278809|        4.32|\n",
      "|       Camden|     275147|        4.27|\n",
      "|       Newham|     262024|        4.06|\n",
      "|      Croydon|     260294|        4.04|\n",
      "|       Ealing|     251562|         3.9|\n",
      "|    Islington|     230286|        3.57|\n",
      "|Tower Hamlets|     228613|        3.55|\n",
      "|        Brent|     227551|        3.53|\n",
      "+-------------+-----------+------------+\n",
      "only showing top 10 rows\n",
      "\n"
     ]
    }
   ],
   "source": [
    "# order by descending based on the % conviction\n",
    "# since % conviction is in column 3, use index as (3-1) = 2\n",
    "borough_percentage_contribution.orderBy(borough_percentage_contribution[2].desc()).show(10)"
   ]
  },
  {
   "cell_type": "code",
   "execution_count": 20,
   "metadata": {},
   "outputs": [
    {
     "name": "stdout",
     "output_type": "stream",
     "text": [
      "+-----+-----------+-------+\n",
      "|month|convictions|percent|\n",
      "+-----+-----------+-------+\n",
      "|   10|      60537|    8.9|\n",
      "|   11|      59704|   8.78|\n",
      "|    7|      58564|   8.61|\n",
      "|    3|      57669|   8.48|\n",
      "|   12|      57565|   8.46|\n",
      "|    6|      57039|   8.39|\n",
      "|    9|      56933|   8.37|\n",
      "|    5|      56327|   8.28|\n",
      "|    8|      55641|   8.18|\n",
      "|    1|      55515|   8.16|\n",
      "|    4|      53467|   7.86|\n",
      "|    2|      51222|   7.53|\n",
      "+-----+-----------+-------+\n",
      "\n"
     ]
    }
   ],
   "source": [
    "# get count of convictions in 2014 month on month and then find percentage of each month\n",
    "data_2014_for_each_month = data.filter(data['year'] == 2014)\\\n",
    "                               .groupBy(data['month'])\\\n",
    "                               .agg({'value':'sum'})\\\n",
    "                               .withColumnRenamed('sum(value)', 'convictions')  \n",
    "total_convictions_in_2014 = data_2014_for_each_month.agg({'convictions':'sum'}).collect()[0][0]\n",
    "data_2014_for_each_month = data_2014_for_each_month.withColumn('percent',\n",
    "        func.round((data_2014_for_each_month.convictions/total_convictions_in_2014) * 100, 2)                     \n",
    ")\n",
    "data_2014_for_each_ordered = data_2014_for_each_month.orderBy(data_2014_for_each_month.percent.desc())\n",
    "data_2014_for_each_ordered.show()"
   ]
  },
  {
   "cell_type": "code",
   "execution_count": 21,
   "metadata": {},
   "outputs": [
    {
     "name": "stdout",
     "output_type": "stream",
     "text": [
      "+--------------------+-----------+\n",
      "|      major_category|convictions|\n",
      "+--------------------+-----------+\n",
      "|  Theft and Handling|    2661861|\n",
      "|Violence Against ...|    1558081|\n",
      "|            Burglary|     754293|\n",
      "|     Criminal Damage|     630938|\n",
      "|               Drugs|     470765|\n",
      "|             Robbery|     258873|\n",
      "|Other Notifiable ...|     106349|\n",
      "|    Fraud or Forgery|       5325|\n",
      "|     Sexual Offences|       1273|\n",
      "+--------------------+-----------+\n",
      "\n"
     ]
    }
   ],
   "source": [
    "# Find number of convictions for each major_category\n",
    "crimes_by_category = data.groupBy(data.major_category)\\\n",
    "                         .agg({'value':'sum'})\\\n",
    "                        .withColumnRenamed('sum(value)', 'convictions')\n",
    "crimes_by_category_ordered = crimes_by_category.orderBy(crimes_by_category.convictions.desc())\n",
    "crimes_by_category_ordered.show()"
   ]
  },
  {
   "cell_type": "code",
   "execution_count": 23,
   "metadata": {},
   "outputs": [
    {
     "name": "stdout",
     "output_type": "stream",
     "text": [
      "+----+\n",
      "|year|\n",
      "+----+\n",
      "|2016|\n",
      "|2015|\n",
      "|2014|\n",
      "|2013|\n",
      "|2012|\n",
      "|2011|\n",
      "|2010|\n",
      "|2009|\n",
      "|2008|\n",
      "+----+\n",
      "\n"
     ]
    }
   ],
   "source": [
    "year_df = data.select('year').distinct().orderBy(data.year.desc())\n",
    "year_df.show()"
   ]
  },
  {
   "cell_type": "code",
   "execution_count": 25,
   "metadata": {},
   "outputs": [
    {
     "name": "stdout",
     "output_type": "stream",
     "text": [
      "+---------+\n",
      "|min(year)|\n",
      "+---------+\n",
      "|     2008|\n",
      "+---------+\n",
      "\n",
      "+---------+\n",
      "|max(year)|\n",
      "+---------+\n",
      "|     2016|\n",
      "+---------+\n",
      "\n",
      "+-------+------------------+\n",
      "|summary|              year|\n",
      "+-------+------------------+\n",
      "|  count|                 9|\n",
      "|   mean|            2012.0|\n",
      "| stddev|2.7386127875258306|\n",
      "|    min|              2008|\n",
      "|    max|              2016|\n",
      "+-------+------------------+\n",
      "\n"
     ]
    }
   ],
   "source": [
    "# minimum year\n",
    "min_year = year_df.agg({'year': 'min'})\n",
    "min_year.show()\n",
    "\n",
    "# maximum year\n",
    "max_year = year_df.agg({'year': 'max'})\n",
    "max_year.show()\n",
    "\n",
    "#describe statistics of a data frame\n",
    "year_df.describe().show()"
   ]
  },
  {
   "cell_type": "code",
   "execution_count": 26,
   "metadata": {},
   "outputs": [
    {
     "name": "stdout",
     "output_type": "stream",
     "text": [
      "+----------------------+-----+-------+--------+----------------+\n",
      "|borough_major_category|Drugs|Robbery|Burglary|Fraud or Forgery|\n",
      "+----------------------+-----+-------+--------+----------------+\n",
      "|              Havering|32616|  27648|   32400|            5508|\n",
      "|                Merton|29160|  23652|   26784|            5724|\n",
      "|              Haringey|35424|  29484|   31320|           10368|\n",
      "|         Tower Hamlets|37368|  28512|   31104|            5400|\n",
      "|               Bromley|42336|  34668|   42552|            8532|\n",
      "|               Enfield|44064|  35532|   39528|            9720|\n",
      "|  Kingston upon Thames|22140|  15660|   21168|            3780|\n",
      "|           Westminster|32616|  25056|   27648|            8748|\n",
      "|  Richmond upon Thames|23004|  18468|   24840|            2808|\n",
      "|              Lewisham|43740|  34884|   36504|           11016|\n",
      "|                 Brent|46980|  34128|   37368|            9288|\n",
      "|  Barking and Dagenham|26244|  22248|   23760|            7236|\n",
      "|             Redbridge|36504|  32400|   34776|            8532|\n",
      "|             Islington|34128|  26244|   26568|            5184|\n",
      "|               Hackney|38772|  29160|   31104|            7560|\n",
      "|                Newham|41580|  34452|   35424|           10692|\n",
      "|        City of London|  756|    540|     540|               0|\n",
      "|                Sutton|26784|  21060|   26136|            3024|\n",
      "|             Southwark|45144|  35316|   35856|           11772|\n",
      "|                Harrow|31212|  23976|   29592|            4752|\n",
      "+----------------------+-----+-------+--------+----------------+\n",
      "only showing top 20 rows\n",
      "\n"
     ]
    }
   ],
   "source": [
    "#pivoting , cross tab\n",
    "cross_tab_data = data.crosstab('borough', 'major_category')\\\n",
    "                     .select('borough_major_category', 'Drugs', 'Robbery', 'Burglary', 'Fraud or Forgery')\n",
    "cross_tab_data.show()"
   ]
  },
  {
   "cell_type": "code",
   "execution_count": null,
   "metadata": {},
   "outputs": [],
   "source": []
  }
 ],
 "metadata": {
  "kernelspec": {
   "display_name": "Python 3",
   "language": "python",
   "name": "python3"
  },
  "language_info": {
   "codemirror_mode": {
    "name": "ipython",
    "version": 3
   },
   "file_extension": ".py",
   "mimetype": "text/x-python",
   "name": "python",
   "nbconvert_exporter": "python",
   "pygments_lexer": "ipython3",
   "version": "3.7.0"
  }
 },
 "nbformat": 4,
 "nbformat_minor": 2
}
